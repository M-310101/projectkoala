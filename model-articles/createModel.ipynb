{
 "cells": [
  {
   "cell_type": "code",
   "execution_count": 79,
   "metadata": {},
   "outputs": [
    {
     "data": {
      "text/plain": [
       "'https://practicaldatascience.co.uk/machine-learning/how-to-detect-fake-news-with-machine-learning'"
      ]
     },
     "execution_count": 79,
     "metadata": {},
     "output_type": "execute_result"
    }
   ],
   "source": [
    "'''https://practicaldatascience.co.uk/machine-learning/how-to-detect-fake-news-with-machine-learning'''"
   ]
  },
  {
   "cell_type": "code",
   "execution_count": 80,
   "metadata": {},
   "outputs": [],
   "source": [
    "import pandas as pd\n",
    "import nltk\n",
    "import sklearn\n",
    "from nltk.corpus import stopwords\n",
    "from nltk.stem.porter import PorterStemmer\n",
    "from sklearn.feature_extraction.text import TfidfVectorizer\n",
    "from sklearn.pipeline import Pipeline\n",
    "from sklearn.model_selection import train_test_split\n",
    "from sklearn.metrics import accuracy_score\n",
    "from sklearn.metrics import f1_score\n",
    "from sklearn.metrics import roc_auc_score\n",
    "from sklearn.metrics import classification_report\n",
    "from sklearn.svm import LinearSVC\n",
    "import joblib"
   ]
  },
  {
   "cell_type": "code",
   "execution_count": 81,
   "metadata": {},
   "outputs": [
    {
     "name": "stdout",
     "output_type": "stream",
     "text": [
      "The scikit-learn version is 0.24.2.\n"
     ]
    }
   ],
   "source": [
    "print('The scikit-learn version is {}.'.format(sklearn.__version__))"
   ]
  },
  {
   "cell_type": "code",
   "execution_count": 82,
   "metadata": {},
   "outputs": [
    {
     "data": {
      "text/html": [
       "<div>\n",
       "<style scoped>\n",
       "    .dataframe tbody tr th:only-of-type {\n",
       "        vertical-align: middle;\n",
       "    }\n",
       "\n",
       "    .dataframe tbody tr th {\n",
       "        vertical-align: top;\n",
       "    }\n",
       "\n",
       "    .dataframe thead th {\n",
       "        text-align: right;\n",
       "    }\n",
       "</style>\n",
       "<table border=\"1\" class=\"dataframe\">\n",
       "  <thead>\n",
       "    <tr style=\"text-align: right;\">\n",
       "      <th></th>\n",
       "      <th>title</th>\n",
       "      <th>text</th>\n",
       "      <th>subject</th>\n",
       "      <th>date</th>\n",
       "      <th>Unnamed: 4</th>\n",
       "      <th>label</th>\n",
       "    </tr>\n",
       "  </thead>\n",
       "  <tbody>\n",
       "    <tr>\n",
       "      <th>0</th>\n",
       "      <td>Donald Trump Sends Out Embarrassing New Year’...</td>\n",
       "      <td>Donald Trump just couldn t wish all Americans ...</td>\n",
       "      <td>News</td>\n",
       "      <td>December 31, 2017</td>\n",
       "      <td>NaN</td>\n",
       "      <td>1</td>\n",
       "    </tr>\n",
       "    <tr>\n",
       "      <th>1</th>\n",
       "      <td>Drunk Bragging Trump Staffer Started Russian ...</td>\n",
       "      <td>House Intelligence Committee Chairman Devin Nu...</td>\n",
       "      <td>News</td>\n",
       "      <td>December 31, 2017</td>\n",
       "      <td>NaN</td>\n",
       "      <td>1</td>\n",
       "    </tr>\n",
       "    <tr>\n",
       "      <th>2</th>\n",
       "      <td>Sheriff David Clarke Becomes An Internet Joke...</td>\n",
       "      <td>On Friday, it was revealed that former Milwauk...</td>\n",
       "      <td>News</td>\n",
       "      <td>December 30, 2017</td>\n",
       "      <td>NaN</td>\n",
       "      <td>1</td>\n",
       "    </tr>\n",
       "    <tr>\n",
       "      <th>3</th>\n",
       "      <td>Trump Is So Obsessed He Even Has Obama’s Name...</td>\n",
       "      <td>On Christmas day, Donald Trump announced that ...</td>\n",
       "      <td>News</td>\n",
       "      <td>December 29, 2017</td>\n",
       "      <td>NaN</td>\n",
       "      <td>1</td>\n",
       "    </tr>\n",
       "    <tr>\n",
       "      <th>4</th>\n",
       "      <td>Pope Francis Just Called Out Donald Trump Dur...</td>\n",
       "      <td>Pope Francis used his annual Christmas Day mes...</td>\n",
       "      <td>News</td>\n",
       "      <td>December 25, 2017</td>\n",
       "      <td>NaN</td>\n",
       "      <td>1</td>\n",
       "    </tr>\n",
       "  </tbody>\n",
       "</table>\n",
       "</div>"
      ],
      "text/plain": [
       "                                               title  \\\n",
       "0   Donald Trump Sends Out Embarrassing New Year’...   \n",
       "1   Drunk Bragging Trump Staffer Started Russian ...   \n",
       "2   Sheriff David Clarke Becomes An Internet Joke...   \n",
       "3   Trump Is So Obsessed He Even Has Obama’s Name...   \n",
       "4   Pope Francis Just Called Out Donald Trump Dur...   \n",
       "\n",
       "                                                text subject  \\\n",
       "0  Donald Trump just couldn t wish all Americans ...    News   \n",
       "1  House Intelligence Committee Chairman Devin Nu...    News   \n",
       "2  On Friday, it was revealed that former Milwauk...    News   \n",
       "3  On Christmas day, Donald Trump announced that ...    News   \n",
       "4  Pope Francis used his annual Christmas Day mes...    News   \n",
       "\n",
       "                date Unnamed: 4  label  \n",
       "0  December 31, 2017        NaN      1  \n",
       "1  December 31, 2017        NaN      1  \n",
       "2  December 30, 2017        NaN      1  \n",
       "3  December 29, 2017        NaN      1  \n",
       "4  December 25, 2017        NaN      1  "
      ]
     },
     "execution_count": 82,
     "metadata": {},
     "output_type": "execute_result"
    }
   ],
   "source": [
    "df_fake = pd.read_csv('fake.csv')\n",
    "df_true = pd.read_csv('true.csv')\n",
    "\n",
    "df_fake['label'] = 1\n",
    "df_true['label'] = 0\n",
    "\n",
    "df = pd.concat([df_fake, df_true], axis=0)\n",
    "df.head()"
   ]
  },
  {
   "cell_type": "code",
   "execution_count": 83,
   "metadata": {},
   "outputs": [
    {
     "data": {
      "text/plain": [
       "1    33810\n",
       "0    31804\n",
       "Name: label, dtype: int64"
      ]
     },
     "execution_count": 83,
     "metadata": {},
     "output_type": "execute_result"
    }
   ],
   "source": [
    "df['label'].value_counts()"
   ]
  },
  {
   "cell_type": "code",
   "execution_count": 84,
   "metadata": {},
   "outputs": [],
   "source": [
    "def tokenize(column):\n",
    "    \"\"\"Tokenizes a Pandas dataframe column and returns a list of tokens.\n",
    "    \n",
    "    Args:\n",
    "        column: Pandas dataframe column (i.e. df['text']).\n",
    "    \n",
    "    Returns:\n",
    "        tokens (list): Tokenized list, i.e. [Donald, Trump, tweets]\n",
    "    \n",
    "    \"\"\"\n",
    "    \n",
    "    tokens = nltk.word_tokenize(column)\n",
    "    return [w for w in tokens if w.isalpha()]"
   ]
  },
  {
   "cell_type": "code",
   "execution_count": 86,
   "metadata": {},
   "outputs": [
    {
     "data": {
      "text/html": [
       "<div>\n",
       "<style scoped>\n",
       "    .dataframe tbody tr th:only-of-type {\n",
       "        vertical-align: middle;\n",
       "    }\n",
       "\n",
       "    .dataframe tbody tr th {\n",
       "        vertical-align: top;\n",
       "    }\n",
       "\n",
       "    .dataframe thead th {\n",
       "        text-align: right;\n",
       "    }\n",
       "</style>\n",
       "<table border=\"1\" class=\"dataframe\">\n",
       "  <thead>\n",
       "    <tr style=\"text-align: right;\">\n",
       "      <th></th>\n",
       "      <th>title</th>\n",
       "      <th>tokenized</th>\n",
       "    </tr>\n",
       "  </thead>\n",
       "  <tbody>\n",
       "    <tr>\n",
       "      <th>0</th>\n",
       "      <td>Donald Trump Sends Out Embarrassing New Year’...</td>\n",
       "      <td>[Donald, Trump, just, couldn, t, wish, all, Am...</td>\n",
       "    </tr>\n",
       "    <tr>\n",
       "      <th>1</th>\n",
       "      <td>Drunk Bragging Trump Staffer Started Russian ...</td>\n",
       "      <td>[House, Intelligence, Committee, Chairman, Dev...</td>\n",
       "    </tr>\n",
       "    <tr>\n",
       "      <th>2</th>\n",
       "      <td>Sheriff David Clarke Becomes An Internet Joke...</td>\n",
       "      <td>[On, Friday, it, was, revealed, that, former, ...</td>\n",
       "    </tr>\n",
       "    <tr>\n",
       "      <th>3</th>\n",
       "      <td>Trump Is So Obsessed He Even Has Obama’s Name...</td>\n",
       "      <td>[On, Christmas, day, Donald, Trump, announced,...</td>\n",
       "    </tr>\n",
       "    <tr>\n",
       "      <th>4</th>\n",
       "      <td>Pope Francis Just Called Out Donald Trump Dur...</td>\n",
       "      <td>[Pope, Francis, used, his, annual, Christmas, ...</td>\n",
       "    </tr>\n",
       "  </tbody>\n",
       "</table>\n",
       "</div>"
      ],
      "text/plain": [
       "                                               title  \\\n",
       "0   Donald Trump Sends Out Embarrassing New Year’...   \n",
       "1   Drunk Bragging Trump Staffer Started Russian ...   \n",
       "2   Sheriff David Clarke Becomes An Internet Joke...   \n",
       "3   Trump Is So Obsessed He Even Has Obama’s Name...   \n",
       "4   Pope Francis Just Called Out Donald Trump Dur...   \n",
       "\n",
       "                                           tokenized  \n",
       "0  [Donald, Trump, just, couldn, t, wish, all, Am...  \n",
       "1  [House, Intelligence, Committee, Chairman, Dev...  \n",
       "2  [On, Friday, it, was, revealed, that, former, ...  \n",
       "3  [On, Christmas, day, Donald, Trump, announced,...  \n",
       "4  [Pope, Francis, used, his, annual, Christmas, ...  "
      ]
     },
     "execution_count": 86,
     "metadata": {},
     "output_type": "execute_result"
    }
   ],
   "source": [
    "df['tokenized'] = df.apply(lambda x: tokenize(str(x['text'])), axis=1)\n",
    "df[['title', 'tokenized']].head()"
   ]
  },
  {
   "cell_type": "code",
   "execution_count": 87,
   "metadata": {},
   "outputs": [],
   "source": [
    "def punctuation_to_features(df, column):\n",
    "    \"\"\"Identify punctuation within a column and convert to a text representation.\n",
    "    \n",
    "    Args:\n",
    "        df (object): Pandas dataframe.\n",
    "        column (string): Name of column containing text. \n",
    "        \n",
    "    Returns:\n",
    "        df[column]: Original column with punctuation converted to text, \n",
    "                    i.e. \"Wow! > \"Wow exclamation\"\n",
    "    \n",
    "    \"\"\"\n",
    "    \n",
    "    df[column] = df[column].replace('!', ' exclamation ')\n",
    "    df[column] = df[column].replace('?', ' question ')\n",
    "    df[column] = df[column].replace('\\'', ' quotation ')\n",
    "    df[column] = df[column].replace('\\\"', ' quotation ')\n",
    "    \n",
    "    return df[column]"
   ]
  },
  {
   "cell_type": "code",
   "execution_count": 88,
   "metadata": {},
   "outputs": [],
   "source": [
    "df['text'] = punctuation_to_features(df, 'text')"
   ]
  },
  {
   "cell_type": "code",
   "execution_count": 89,
   "metadata": {},
   "outputs": [],
   "source": [
    "def remove_stopwords(tokenized_column):\n",
    "    \"\"\"Return a list of tokens with English stopwords removed. \n",
    "    \n",
    "    Args:\n",
    "        column: Pandas dataframe column of tokenized data from tokenize()\n",
    "    \n",
    "    Returns:\n",
    "        tokens (list): Tokenized list with stopwords removed.\n",
    "    \n",
    "    \"\"\"\n",
    "    stops = set(stopwords.words(\"english\"))\n",
    "    return [word for word in tokenized_column if not word in stops]"
   ]
  },
  {
   "cell_type": "code",
   "execution_count": 90,
   "metadata": {},
   "outputs": [
    {
     "data": {
      "text/html": [
       "<div>\n",
       "<style scoped>\n",
       "    .dataframe tbody tr th:only-of-type {\n",
       "        vertical-align: middle;\n",
       "    }\n",
       "\n",
       "    .dataframe tbody tr th {\n",
       "        vertical-align: top;\n",
       "    }\n",
       "\n",
       "    .dataframe thead th {\n",
       "        text-align: right;\n",
       "    }\n",
       "</style>\n",
       "<table border=\"1\" class=\"dataframe\">\n",
       "  <thead>\n",
       "    <tr style=\"text-align: right;\">\n",
       "      <th></th>\n",
       "      <th>title</th>\n",
       "      <th>stopwords_removed</th>\n",
       "    </tr>\n",
       "  </thead>\n",
       "  <tbody>\n",
       "    <tr>\n",
       "      <th>0</th>\n",
       "      <td>Donald Trump Sends Out Embarrassing New Year’...</td>\n",
       "      <td>[Donald, Trump, wish, Americans, Happy, New, Y...</td>\n",
       "    </tr>\n",
       "    <tr>\n",
       "      <th>1</th>\n",
       "      <td>Drunk Bragging Trump Staffer Started Russian ...</td>\n",
       "      <td>[House, Intelligence, Committee, Chairman, Dev...</td>\n",
       "    </tr>\n",
       "    <tr>\n",
       "      <th>2</th>\n",
       "      <td>Sheriff David Clarke Becomes An Internet Joke...</td>\n",
       "      <td>[On, Friday, revealed, former, Milwaukee, Sher...</td>\n",
       "    </tr>\n",
       "    <tr>\n",
       "      <th>3</th>\n",
       "      <td>Trump Is So Obsessed He Even Has Obama’s Name...</td>\n",
       "      <td>[On, Christmas, day, Donald, Trump, announced,...</td>\n",
       "    </tr>\n",
       "    <tr>\n",
       "      <th>4</th>\n",
       "      <td>Pope Francis Just Called Out Donald Trump Dur...</td>\n",
       "      <td>[Pope, Francis, used, annual, Christmas, Day, ...</td>\n",
       "    </tr>\n",
       "  </tbody>\n",
       "</table>\n",
       "</div>"
      ],
      "text/plain": [
       "                                               title  \\\n",
       "0   Donald Trump Sends Out Embarrassing New Year’...   \n",
       "1   Drunk Bragging Trump Staffer Started Russian ...   \n",
       "2   Sheriff David Clarke Becomes An Internet Joke...   \n",
       "3   Trump Is So Obsessed He Even Has Obama’s Name...   \n",
       "4   Pope Francis Just Called Out Donald Trump Dur...   \n",
       "\n",
       "                                   stopwords_removed  \n",
       "0  [Donald, Trump, wish, Americans, Happy, New, Y...  \n",
       "1  [House, Intelligence, Committee, Chairman, Dev...  \n",
       "2  [On, Friday, revealed, former, Milwaukee, Sher...  \n",
       "3  [On, Christmas, day, Donald, Trump, announced,...  \n",
       "4  [Pope, Francis, used, annual, Christmas, Day, ...  "
      ]
     },
     "execution_count": 90,
     "metadata": {},
     "output_type": "execute_result"
    }
   ],
   "source": [
    "df['stopwords_removed'] = df.apply(lambda x: remove_stopwords(x['tokenized']), axis=1)\n",
    "df[['title', 'stopwords_removed']].head()"
   ]
  },
  {
   "cell_type": "code",
   "execution_count": 91,
   "metadata": {},
   "outputs": [],
   "source": [
    "def apply_stemming(tokenized_column):\n",
    "    \"\"\"Return a list of tokens with Porter stemming applied.\n",
    "    \n",
    "    Args:\n",
    "        column: Pandas dataframe column of tokenized data with stopwords removed.\n",
    "    \n",
    "    Returns:\n",
    "        tokens (list): Tokenized list with words Porter stemmed.\n",
    "    \n",
    "    \"\"\"\n",
    "    \n",
    "    stemmer = PorterStemmer() \n",
    "    return [stemmer.stem(word).lower() for word in tokenized_column]"
   ]
  },
  {
   "cell_type": "code",
   "execution_count": 92,
   "metadata": {},
   "outputs": [
    {
     "data": {
      "text/html": [
       "<div>\n",
       "<style scoped>\n",
       "    .dataframe tbody tr th:only-of-type {\n",
       "        vertical-align: middle;\n",
       "    }\n",
       "\n",
       "    .dataframe tbody tr th {\n",
       "        vertical-align: top;\n",
       "    }\n",
       "\n",
       "    .dataframe thead th {\n",
       "        text-align: right;\n",
       "    }\n",
       "</style>\n",
       "<table border=\"1\" class=\"dataframe\">\n",
       "  <thead>\n",
       "    <tr style=\"text-align: right;\">\n",
       "      <th></th>\n",
       "      <th>title</th>\n",
       "      <th>porter_stemmed</th>\n",
       "    </tr>\n",
       "  </thead>\n",
       "  <tbody>\n",
       "    <tr>\n",
       "      <th>0</th>\n",
       "      <td>Donald Trump Sends Out Embarrassing New Year’...</td>\n",
       "      <td>[donald, trump, wish, american, happi, new, ye...</td>\n",
       "    </tr>\n",
       "    <tr>\n",
       "      <th>1</th>\n",
       "      <td>Drunk Bragging Trump Staffer Started Russian ...</td>\n",
       "      <td>[hous, intellig, committe, chairman, devin, nu...</td>\n",
       "    </tr>\n",
       "    <tr>\n",
       "      <th>2</th>\n",
       "      <td>Sheriff David Clarke Becomes An Internet Joke...</td>\n",
       "      <td>[on, friday, reveal, former, milwauke, sheriff...</td>\n",
       "    </tr>\n",
       "    <tr>\n",
       "      <th>3</th>\n",
       "      <td>Trump Is So Obsessed He Even Has Obama’s Name...</td>\n",
       "      <td>[on, christma, day, donald, trump, announc, wo...</td>\n",
       "    </tr>\n",
       "    <tr>\n",
       "      <th>4</th>\n",
       "      <td>Pope Francis Just Called Out Donald Trump Dur...</td>\n",
       "      <td>[pope, franci, use, annual, christma, day, mes...</td>\n",
       "    </tr>\n",
       "  </tbody>\n",
       "</table>\n",
       "</div>"
      ],
      "text/plain": [
       "                                               title  \\\n",
       "0   Donald Trump Sends Out Embarrassing New Year’...   \n",
       "1   Drunk Bragging Trump Staffer Started Russian ...   \n",
       "2   Sheriff David Clarke Becomes An Internet Joke...   \n",
       "3   Trump Is So Obsessed He Even Has Obama’s Name...   \n",
       "4   Pope Francis Just Called Out Donald Trump Dur...   \n",
       "\n",
       "                                      porter_stemmed  \n",
       "0  [donald, trump, wish, american, happi, new, ye...  \n",
       "1  [hous, intellig, committe, chairman, devin, nu...  \n",
       "2  [on, friday, reveal, former, milwauke, sheriff...  \n",
       "3  [on, christma, day, donald, trump, announc, wo...  \n",
       "4  [pope, franci, use, annual, christma, day, mes...  "
      ]
     },
     "execution_count": 92,
     "metadata": {},
     "output_type": "execute_result"
    }
   ],
   "source": [
    "df['porter_stemmed'] = df.apply(lambda x: apply_stemming(x['stopwords_removed']), axis=1)\n",
    "df[['title', 'porter_stemmed']].head()"
   ]
  },
  {
   "cell_type": "code",
   "execution_count": 93,
   "metadata": {},
   "outputs": [],
   "source": [
    "def rejoin_words(tokenized_column):\n",
    "    return ( \" \".join(tokenized_column))"
   ]
  },
  {
   "cell_type": "code",
   "execution_count": 94,
   "metadata": {},
   "outputs": [
    {
     "data": {
      "text/html": [
       "<div>\n",
       "<style scoped>\n",
       "    .dataframe tbody tr th:only-of-type {\n",
       "        vertical-align: middle;\n",
       "    }\n",
       "\n",
       "    .dataframe tbody tr th {\n",
       "        vertical-align: top;\n",
       "    }\n",
       "\n",
       "    .dataframe thead th {\n",
       "        text-align: right;\n",
       "    }\n",
       "</style>\n",
       "<table border=\"1\" class=\"dataframe\">\n",
       "  <thead>\n",
       "    <tr style=\"text-align: right;\">\n",
       "      <th></th>\n",
       "      <th>title</th>\n",
       "      <th>all_text</th>\n",
       "    </tr>\n",
       "  </thead>\n",
       "  <tbody>\n",
       "    <tr>\n",
       "      <th>0</th>\n",
       "      <td>Donald Trump Sends Out Embarrassing New Year’...</td>\n",
       "      <td>donald trump wish american happi new year leav...</td>\n",
       "    </tr>\n",
       "    <tr>\n",
       "      <th>1</th>\n",
       "      <td>Drunk Bragging Trump Staffer Started Russian ...</td>\n",
       "      <td>hous intellig committe chairman devin nune go ...</td>\n",
       "    </tr>\n",
       "    <tr>\n",
       "      <th>2</th>\n",
       "      <td>Sheriff David Clarke Becomes An Internet Joke...</td>\n",
       "      <td>on friday reveal former milwauke sheriff david...</td>\n",
       "    </tr>\n",
       "    <tr>\n",
       "      <th>3</th>\n",
       "      <td>Trump Is So Obsessed He Even Has Obama’s Name...</td>\n",
       "      <td>on christma day donald trump announc would bac...</td>\n",
       "    </tr>\n",
       "    <tr>\n",
       "      <th>4</th>\n",
       "      <td>Pope Francis Just Called Out Donald Trump Dur...</td>\n",
       "      <td>pope franci use annual christma day messag reb...</td>\n",
       "    </tr>\n",
       "  </tbody>\n",
       "</table>\n",
       "</div>"
      ],
      "text/plain": [
       "                                               title  \\\n",
       "0   Donald Trump Sends Out Embarrassing New Year’...   \n",
       "1   Drunk Bragging Trump Staffer Started Russian ...   \n",
       "2   Sheriff David Clarke Becomes An Internet Joke...   \n",
       "3   Trump Is So Obsessed He Even Has Obama’s Name...   \n",
       "4   Pope Francis Just Called Out Donald Trump Dur...   \n",
       "\n",
       "                                            all_text  \n",
       "0  donald trump wish american happi new year leav...  \n",
       "1  hous intellig committe chairman devin nune go ...  \n",
       "2  on friday reveal former milwauke sheriff david...  \n",
       "3  on christma day donald trump announc would bac...  \n",
       "4  pope franci use annual christma day messag reb...  "
      ]
     },
     "execution_count": 94,
     "metadata": {},
     "output_type": "execute_result"
    }
   ],
   "source": [
    "df['all_text'] = df.apply(lambda x: rejoin_words(x['porter_stemmed']), axis=1)\n",
    "df[['title', 'all_text']].head()"
   ]
  },
  {
   "cell_type": "code",
   "execution_count": 95,
   "metadata": {},
   "outputs": [],
   "source": [
    "X = df['all_text']\n",
    "y = df['label']\n",
    "X_train, X_test, y_train, y_test = train_test_split(X, y, test_size=0.3, random_state=1, shuffle=True)"
   ]
  },
  {
   "cell_type": "code",
   "execution_count": 96,
   "metadata": {},
   "outputs": [],
   "source": [
    "bundled_pipeline = Pipeline([(\"tfidf\", TfidfVectorizer()), (\"clf\", LinearSVC())])\n",
    "bundled_pipeline.fit(X_train, y_train)\n",
    "y_pred = bundled_pipeline.predict(X_test)"
   ]
  },
  {
   "cell_type": "code",
   "execution_count": 97,
   "metadata": {},
   "outputs": [
    {
     "data": {
      "text/plain": [
       "['fake_news_model.pkl']"
      ]
     },
     "execution_count": 97,
     "metadata": {},
     "output_type": "execute_result"
    }
   ],
   "source": [
    "# export classifier\n",
    "joblib.dump(bundled_pipeline, 'fake_news_model.pkl', compress=0)"
   ]
  },
  {
   "cell_type": "code",
   "execution_count": 98,
   "metadata": {},
   "outputs": [
    {
     "name": "stdout",
     "output_type": "stream",
     "text": [
      "              precision    recall  f1-score   support\n",
      "\n",
      "           0       0.97      0.96      0.96      9403\n",
      "           1       0.96      0.97      0.96     10282\n",
      "\n",
      "    accuracy                           0.96     19685\n",
      "   macro avg       0.96      0.96      0.96     19685\n",
      "weighted avg       0.96      0.96      0.96     19685\n",
      "\n",
      "Accuracy: 0.9631699263398527\n",
      "F1 score: 0.9649470579703139\n",
      "ROC/AUC score: 0.9628258656250019\n"
     ]
    }
   ],
   "source": [
    "print(classification_report(y_test, y_pred))\n",
    "print('Accuracy:',accuracy_score(y_test, y_pred))\n",
    "print('F1 score:',f1_score(y_test, y_pred))\n",
    "print('ROC/AUC score:',roc_auc_score(y_test, y_pred))"
   ]
  },
  {
   "cell_type": "code",
   "execution_count": 99,
   "metadata": {},
   "outputs": [],
   "source": [
    "title = \"\"\"Walmart boosts minimum wage again, hands out $1,000 bonuses\"\"\"\n",
    "text = '''Walmart boosts minimum wage again, hands out $1,000 bonuses\n",
    "\n",
    "Walmart is boosting the minimum hourly wage for its U.S. employees to $11 and dishing out bonuses of up to $1,000, crediting President Trump's tax cut for enabling the move.\n",
    "\n",
    "The increase for the nation's largest private employer also comes amid political pressure to bolster minimum wages and comes amid a hot streak for the retailer.\n",
    "\n",
    "The big-box store chain, which has more than 1 million U.S. hourly employees, will reap a windfall from the U.S. corporate tax rate cut to 21%, down from 35%.\n",
    "\n",
    "“Today, we are building on investments we’ve been making in associates, in their wages and skills development,” Walmart CEO Doug McMillon said in a statement. “It’s our people who make the difference and we appreciate how they work hard to make every day easier for busy families.”\n",
    "\n",
    "The move also comes amid a 17-year low for the U.S. unemployment rate, which has intensified competition for workers.\n",
    "\n",
    "At the same time, Walmart confirmed Thursday that it is closing about 50 Sam's Club stores and converting another dozen or so into online fulfillment centers. Those closures suggest that the retail landscape remains extremely challenging for certain brands.\n",
    "\n",
    "Walmart's wage-boost announcement follows a series of similar moves by major corporations that also credited the tax cut with bolstering their businesses.\n",
    "\n",
    "For example, AT&T and Comcast dished out one-time bonuses of $1,000 to non-management workers, and Wells Fargo and Fifth Third Bancorp boosted base hourly pay to $15.\n",
    "\n",
    "Economists have argued that one-time bonuses, while significant for workers living paycheck to paycheck, are not as meaningful as permanent wage increases. Critics of tax reform have said companies are dishing out bonuses for the sake of good publicity and to curry favor with the White House.\n",
    "\n",
    "\"Walmart would have had to go to at least $11 in many markets in order to retain reliable employees,\" University of Michigan business professor Erik Gordon said. \"The tax cut made it easier for the company to swallow.\"\n",
    "\n",
    "But, Gordon said, the move indicates that \"the corporate tax cut's touted trickle-down effects that were met with skepticism by critics may be happening.\"\n",
    "\n",
    "Charles Fishman, author of The Wal-Mart Effect, said the move shows that the retailer is betting on solid economic growth for the next two to three years. It also reflected a recognition that Walmart needed to \"up its game to keep its employees and get new employees,\" he said.\n",
    "\n",
    "\"They’ve started to change the way they treat employees because they can’t take them for granted anymore,\" Fishman said.\n",
    "\n",
    "Walmart's wage increase will take effect in February. The company said the one-time bonuses would cost the company $400 million and will be based on length of service. Employees who have worked for at least 20 years will get the full $1,000, but most will get up to a few hundred dollars.\n",
    "\n",
    "The company is also boosting its paid maternity leave policy for full-time hourly workers to 10 weeks at full pay. Previously, mothers got six to eight weeks at half pay.\n",
    "\n",
    "Walmart is also increasing its paid leave policy for new fathers, non-birthing mothers, adoptive parents and foster parents to six weeks at full pay for full-time hourly workers. Previously, the company didn't offer paid leave for them.\n",
    "\n",
    "The changes in parental leave put salaried and hourly workers on the same footing.\n",
    "\n",
    "Walmart also said it would offer financial help to full-time hourly and salaried employees who are seeking to adopt children.\n",
    "\n",
    "The minimum wage increase comes about a year after Walmart hiked hourly pay to at least $10 for most workers. Twelve states already have minimum wages of at least $10, according to the Economic Policy Institute.\n",
    "\n",
    "The wage increase comes as Walmart is on a roll. While many traditional retailers have been struggling to keep up with online behemoth Amazon, Walmart has fared better. Walmart's online business is surging.'''"
   ]
  },
  {
   "cell_type": "code",
   "execution_count": 100,
   "metadata": {},
   "outputs": [],
   "source": [
    "subs = {\n",
    "    '!': ' exclamation ',\n",
    "    '?': ' question ',\n",
    "    '\\'': ' quotation ',\n",
    "    '\\\"': ' quotation ',\n",
    "    '”': ' quotation ',\n",
    "    '“': ' quotation ',\n",
    "    '’': ' apostrophe ',\n",
    "}"
   ]
  },
  {
   "cell_type": "code",
   "execution_count": 101,
   "metadata": {},
   "outputs": [],
   "source": [
    "tokens = nltk.word_tokenize(text)\n",
    "# print(map(subs.get, tokens, tokens))\n",
    "tokens = [subs.get(item,item) for item in tokens]\n",
    "tokens_no_sw = [word for word in tokens if not word in stopwords.words('english')]\n",
    "stemmer = PorterStemmer() \n",
    "final = [stemmer.stem(word).lower() for word in tokens_no_sw]"
   ]
  },
  {
   "cell_type": "code",
   "execution_count": 102,
   "metadata": {},
   "outputs": [
    {
     "data": {
      "text/plain": [
       "\"walmart boost minimum wage , hand $ 1,000 bonus walmart boost minimum hourli wage u.s. employe $ 11 dish bonus $ 1,000 , credit presid trump 's tax cut enabl move . the increas nation 's largest privat employ also come amid polit pressur bolster minimum wage come amid hot streak retail . the big-box store chain , 1 million u.s. hourli employe , reap windfal u.s. corpor tax rate cut 21 % , 35 % .  quotation  today , build invest  apostrophe  make associ , wage skill develop ,  quotation  walmart ceo doug mcmillon said statement .  quotation  it  apostrophe  peopl make differ appreci work hard make everi day easier busi families.  quotation  the move also come amid 17-year low u.s. unemploy rate , intensifi competit worker . at time , walmart confirm thursday close 50 sam 's club store convert anoth dozen onlin fulfil center . those closur suggest retail landscap remain extrem challeng certain brand . walmart 's wage-boost announc follow seri similar move major corpor also credit tax cut bolster busi . for exampl , at & t comcast dish one-tim bonus $ 1,000 non-manag worker , well fargo fifth third bancorp boost base hourli pay $ 15 . economist argu one-tim bonus , signific worker live paycheck paycheck , meaning perman wage increas . critic tax reform said compani dish bonus sake good public curri favor white hous . `` walmart would go least $ 11 mani market order retain reliabl employe , '' univers michigan busi professor erik gordon said . `` the tax cut made easier compani swallow . '' but , gordon said , move indic `` corpor tax cut 's tout trickle-down effect met skeptic critic may happen . '' charl fishman , author the wal-mart effect , said move show retail bet solid econom growth next two three year . it also reflect recognit walmart need `` game keep employe get new employe , '' said . `` they  apostrophe  start chang way treat employe  apostrophe  take grant anymor , '' fishman said . walmart 's wage increas take effect februari . the compani said one-tim bonus would cost compani $ 400 million base length servic . employe work least 20 year get full $ 1,000 , get hundr dollar . the compani also boost paid matern leav polici full-tim hourli worker 10 week full pay . previous , mother got six eight week half pay . walmart also increas paid leav polici new father , non-birth mother , adopt parent foster parent six week full pay full-tim hourli worker . previous , compani n't offer paid leav . the chang parent leav put salari hourli worker foot . walmart also said would offer financi help full-tim hourli salari employe seek adopt children . the minimum wage increas come year walmart hike hourli pay least $ 10 worker . twelv state alreadi minimum wage least $ 10 , accord econom polici institut . the wage increas come walmart roll . while mani tradit retail struggl keep onlin behemoth amazon , walmart fare better . walmart 's onlin busi surg .\""
      ]
     },
     "execution_count": 102,
     "metadata": {},
     "output_type": "execute_result"
    }
   ],
   "source": [
    "new_final = \" \".join(final)\n",
    "new_final"
   ]
  },
  {
   "cell_type": "code",
   "execution_count": 103,
   "metadata": {},
   "outputs": [],
   "source": [
    "X = [new_final]"
   ]
  },
  {
   "cell_type": "code",
   "execution_count": 104,
   "metadata": {},
   "outputs": [],
   "source": [
    "y_pred = bundled_pipeline.predict(X)"
   ]
  },
  {
   "cell_type": "code",
   "execution_count": 105,
   "metadata": {},
   "outputs": [
    {
     "data": {
      "text/plain": [
       "array([0])"
      ]
     },
     "execution_count": 105,
     "metadata": {},
     "output_type": "execute_result"
    }
   ],
   "source": [
    "y_pred"
   ]
  },
  {
   "cell_type": "code",
   "execution_count": 106,
   "metadata": {},
   "outputs": [],
   "source": [
    "fn_model = joblib.load('fake_news_model.pkl')"
   ]
  },
  {
   "cell_type": "code",
   "execution_count": 107,
   "metadata": {},
   "outputs": [
    {
     "data": {
      "text/plain": [
       "array([0])"
      ]
     },
     "execution_count": 107,
     "metadata": {},
     "output_type": "execute_result"
    }
   ],
   "source": [
    "y_pred = fn_model.predict(X)\n",
    "y_pred"
   ]
  }
 ],
 "metadata": {
  "interpreter": {
   "hash": "55d715d3c444b1001003aeef939930f38246c308dcd8fce8c0a7600c16ba0ebe"
  },
  "kernelspec": {
   "display_name": "Python 3.9.7 ('base')",
   "language": "python",
   "name": "python3"
  },
  "language_info": {
   "codemirror_mode": {
    "name": "ipython",
    "version": 3
   },
   "file_extension": ".py",
   "mimetype": "text/x-python",
   "name": "python",
   "nbconvert_exporter": "python",
   "pygments_lexer": "ipython3",
   "version": "3.9.7"
  },
  "orig_nbformat": 4
 },
 "nbformat": 4,
 "nbformat_minor": 2
}
